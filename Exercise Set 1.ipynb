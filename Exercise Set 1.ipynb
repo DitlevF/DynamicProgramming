{
 "cells": [
  {
   "cell_type": "markdown",
   "metadata": {},
   "source": [
    "# Exercise 1"
   ]
  },
  {
   "cell_type": "code",
   "execution_count": 474,
   "metadata": {},
   "outputs": [],
   "source": [
    "import numpy as np\n",
    "import matplotlib.pyplot as plt"
   ]
  },
  {
   "cell_type": "markdown",
   "metadata": {},
   "source": [
    "## 1.4"
   ]
  },
  {
   "cell_type": "code",
   "execution_count": 10,
   "metadata": {},
   "outputs": [],
   "source": [
    "# 1. Set up\n",
    "class struct():\n",
    "    pass"
   ]
  },
  {
   "cell_type": "markdown",
   "metadata": {},
   "source": [
    "# T = 2"
   ]
  },
  {
   "cell_type": "code",
   "execution_count": null,
   "metadata": {},
   "outputs": [],
   "source": [
    "# 1. Set up\n",
    "par = struct()\n",
    "par.alpha = 0.5\n",
    "par.beta = 0.9\n",
    "par.T = 2\n",
    "\n",
    "# Utility function\n",
    "par.u = lambda x, par: x**par.alpha\n",
    "# 2. State\n",
    "par.M = 5"
   ]
  },
  {
   "cell_type": "code",
   "execution_count": 13,
   "metadata": {},
   "outputs": [
    {
     "name": "stdout",
     "output_type": "stream",
     "text": [
      "Optimal consumption is [3, 2] with value function 3.004843013704663\n"
     ]
    }
   ],
   "source": [
    "# 3. Solve for T = 2\n",
    "Vstar = -np.inf\n",
    "Cstar = [0 for x in range(par.T)]\n",
    "\n",
    "for C1 in range(0,par.M + 1):       \n",
    "        #a. Evaluate\n",
    "        V = par.u(C1, par) + par.beta * par.u(par.M - C1, par)\n",
    "        \n",
    "                #b. Save max\n",
    "        if V > Vstar:\n",
    "            Vstar = V\n",
    "            Cstar[0] = C1\n",
    "            \n",
    "            Cstar[1] = par.M - C1\n",
    "            \n",
    "        \n",
    "print('Optimal consumption is',Cstar, 'with value function', Vstar)\n"
   ]
  },
  {
   "cell_type": "markdown",
   "metadata": {},
   "source": [
    "# T = 3"
   ]
  },
  {
   "cell_type": "code",
   "execution_count": 20,
   "metadata": {},
   "outputs": [],
   "source": [
    "# 1. Set up\n",
    "par = struct()\n",
    "par.alpha = 0.5\n",
    "par.beta = 0.9\n",
    "par.T = 3\n",
    "# Utility function\n",
    "par.u = lambda x, par: x**par.alpha\n",
    "# 2. State\n",
    "par.M = 5"
   ]
  },
  {
   "cell_type": "code",
   "execution_count": 22,
   "metadata": {},
   "outputs": [
    {
     "name": "stdout",
     "output_type": "stream",
     "text": [
      "Optimal consumption is [2, 2, 1] with value function 3.4970057685088807\n"
     ]
    }
   ],
   "source": [
    "# Solve\n",
    "Vstar = -np.inf\n",
    "Cstar = [0 for x in range(par.T)]\n",
    "\n",
    "for C2 in range(0,par.M + 1):\n",
    "    for C1 in range(0, par.M - C2):\n",
    "        \n",
    "        # a. Evaluate\n",
    "        V = par.u(C2, par) + par.beta * par.u(C1,par) + (par.beta)**2 * par.u(par.M-C2-C1,par)\n",
    "        \n",
    "        # b. Save max\n",
    "        if V > Vstar:\n",
    "            Vstar = V\n",
    "            Cstar[0] = C1\n",
    "            Cstar[1] = C2\n",
    "            Cstar[2] = par.M - C1 - C2\n",
    "            \n",
    "\n",
    "print('Optimal consumption is',Cstar, 'with value function', Vstar)"
   ]
  },
  {
   "cell_type": "markdown",
   "metadata": {},
   "source": [
    "# Backwards Induction"
   ]
  },
  {
   "cell_type": "code",
   "execution_count": 496,
   "metadata": {},
   "outputs": [],
   "source": [
    "# 1. Set up\n",
    "par = struct()\n",
    "par.alpha = 0.5\n",
    "par.beta = 0.70\n",
    "par.T = 10\n",
    "# Utility function\n",
    "par.u = lambda x, par: x**par.alpha\n",
    "# 2. State\n",
    "par.M = 5"
   ]
  },
  {
   "cell_type": "code",
   "execution_count": 500,
   "metadata": {},
   "outputs": [],
   "source": [
    "# Solve\n",
    "Cstar, Vstar = dict(), dict()\n",
    "\n",
    "# Initialize end period\n",
    "Cstar[par.T] = np.arange(par.M+1)\n",
    "Vstar[par.T] = par.u(Cstar[par.T], par)\n",
    "\n",
    "for t in reversed(range(1,par.T)):\n",
    "    Cstar[t] = np.zeros(par.M+1)\n",
    "    Vstar[t] = np.zeros(par.M+1)\n",
    "    \n",
    "    for m in range(0, par.M+1): # 0 to 5\n",
    "        Vstar[t][m] = -np.inf \n",
    "        \n",
    "        for C in range(m+1): # 0 to m\n",
    "            V = par.u(C, par) + par.beta * Vstar[t+1][m-C]\n",
    "            if V > Vstar[t][m]:\n",
    "                Vstar[t][m] = V\n",
    "                Cstar[t][m] = C "
   ]
  },
  {
   "cell_type": "markdown",
   "metadata": {},
   "source": [
    "# Simulate $C_1,... C_{10}$ with $M = 5$ and $T = 10$"
   ]
  },
  {
   "cell_type": "code",
   "execution_count": 501,
   "metadata": {},
   "outputs": [],
   "source": [
    "C = np.zeros(par.T)\n",
    "C[0] = Cstar[1][par.M]\n",
    "\n",
    "for i in range(1,par.T):\n",
    "    tot_C = sum(C)\n",
    "    C[i] = Cstar[i+1][int(par.M - tot_C)]"
   ]
  },
  {
   "cell_type": "code",
   "execution_count": 502,
   "metadata": {},
   "outputs": [
    {
     "data": {
      "image/png": "[encoded data removed]",
      "text/plain": [
       "<matplotlib.figure.Figure at 0x11fb358d0>"
      ]
     },
     "metadata": {},
     "output_type": "display_data"
    }
   ],
   "source": [
    "plt.figure()\n",
    "x = np.linspace(1,10,10)\n",
    "plt.plot(x,C)\n",
    "plt.title('Consumption Path'); plt.ylabel('Consumption'); plt.xlabel('Time'); plt.xticks(range(1,11))\n",
    "plt.show()"
   ]
  }
 ],
 "metadata": {
  "kernelspec": {
   "display_name": "Python 3",
   "language": "python",
   "name": "python3"
  },
  "language_info": {
   "codemirror_mode": {
    "name": "ipython",
    "version": 3
   },
   "file_extension": ".py",
   "mimetype": "text/x-python",
   "name": "python",
   "nbconvert_exporter": "python",
   "pygments_lexer": "ipython3",
   "version": "3.5.4"
  }
 },
 "nbformat": 4,
 "nbformat_minor": 2
}
